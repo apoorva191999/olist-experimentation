{
 "cells": [
  {
   "cell_type": "markdown",
   "id": "94042de5",
   "metadata": {},
   "source": [
    "Data Preparation"
   ]
  },
  {
   "cell_type": "code",
   "execution_count": 2,
   "id": "db9b0976",
   "metadata": {},
   "outputs": [],
   "source": [
    "# Import packages\n",
    "import pandas as pd"
   ]
  },
  {
   "cell_type": "code",
   "execution_count": null,
   "id": "84caeba3",
   "metadata": {},
   "outputs": [],
   "source": [
    "# Read datasets\n",
    "products = pd.read_csv(\"data/olist_products_dataset.csv\")\n",
    "orders = pd.read_csv(\"data/olist_orders_dataset.csv\")\n",
    "reviews = pd.read_csv(\"data/olist_order_reviews_dataset.csv\")\n",
    "payments = pd.read_csv(\"data/olist_order_payments_dataset.csv\")\n",
    "order_items = pd.read_csv(\"data/olist_order_items_dataset.csv\")\n",
    "locations = pd.read_csv(\"data/olist_geolocation_dataset.csv\")\n",
    "customers = pd.read_csv(\"data/olist_customers_dataset.csv\")\n",
    "sellers = pd.read_csv(\"data/olist_sellers_dataset.csv\")\n",
    "product_description = pd.read_csv(\"data/product_category_name_translation.csv\")\n"
   ]
  },
  {
   "cell_type": "code",
   "execution_count": null,
   "id": "27ba0bdb",
   "metadata": {},
   "outputs": [],
   "source": [
    "# Merge datasets\n",
    "merged = orders.merge(order_items, on='order_id', how='left')\n",
    "merged = merged.merge(products, on='product_id', how='left')\n",
    "merged = merged.merge(payments, on='order_id', how='left')\n",
    "merged = merged.merge(reviews, on='order_id', how='left')\n",
    "merged = merged.merge(customers, on='customer_id', how='left')\n",
    "merged = merged.merge(sellers, on='seller_id', how='left')\n",
    "merged = merged.merge(product_description, on='product_category_name', how='left')"
   ]
  },
  {
   "cell_type": "code",
   "execution_count": null,
   "id": "58d25e20",
   "metadata": {},
   "outputs": [],
   "source": [
    "# Convert timestamp to datetime\n",
    "merged['order_purchase_timestamp'] = pd.to_datetime(merged['order_purchase_timestamp'], errors='coerce')\n",
    "merged['order_delivered_customer_date'] = pd.to_datetime(merged['order_delivered_customer_date'], errors='coerce')\n"
   ]
  },
  {
   "cell_type": "code",
   "execution_count": null,
   "id": "4727edfa",
   "metadata": {},
   "outputs": [],
   "source": [
    "# Filter rows with missing timestamps or reviews\n",
    "merged = merged.dropna(subset=['order_purchase_timestamp', 'review_score'])"
   ]
  }
 ],
 "metadata": {
  "kernelspec": {
   "display_name": "Python 3",
   "language": "python",
   "name": "python3"
  },
  "language_info": {
   "codemirror_mode": {
    "name": "ipython",
    "version": 3
   },
   "file_extension": ".py",
   "mimetype": "text/x-python",
   "name": "python",
   "nbconvert_exporter": "python",
   "pygments_lexer": "ipython3",
   "version": "3.13.5"
  }
 },
 "nbformat": 4,
 "nbformat_minor": 5
}
